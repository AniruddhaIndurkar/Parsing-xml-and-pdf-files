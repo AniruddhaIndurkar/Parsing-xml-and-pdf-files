{
 "cells": [
  {
   "cell_type": "markdown",
   "metadata": {},
   "source": [
    "# Parsing text files and converting into XML and JSON\n",
    "## Task 1"
   ]
  },
  {
   "cell_type": "markdown",
   "metadata": {},
   "source": [
    "#### Name: Aniruddha Indurkar\n",
    "#### Date: 14/04/2019\n",
    "\n",
    "Environment: Python 3.6.3 and Jupyter notebook Libraries used\n",
    "\n",
    "* json\n",
    "* re\n",
    "\n"
   ]
  },
  {
   "cell_type": "markdown",
   "metadata": {},
   "source": [
    "## 1. Introduction\n",
    "This analysis extracts data from an HTML-based text corpus containing 400 Monash University units. Data was extracted by reading the input file 'Data.txt', splitting at the document boundaries (i.e. HTML headers) and then creating a list where each item in the list holds the full XML for each individual patent.\n",
    "\n",
    "Data relating to patent classifications and citations was extracted using the package `re` to extract values from specific HTML tags. Similarly, the text associated with abstracts was extracted for further pre-processing.\n",
    "\n",
    "Text pre-processing was performed with the objective of producing a xml and json document for the unit information. The pre-processing included extracting the information for unit code, Synopsis, Outcomes etc. "
   ]
  },
  {
   "cell_type": "markdown",
   "metadata": {},
   "source": [
    "### Methodology\n",
    "- After reading the file, we find the patterns in the file.\n",
    "- We extract containers containing information about the subjects.\n",
    "- We make use of regex (.|\\n)*? that extracts information between identified tags for each unit.\n",
    "- Then, we remove the unwanted characters and format the data.\n",
    "- To export the data in the XML and JSON format we make changes to the dictionary created to store the information for each unit.\n",
    "\n",
    "We make use of functions and then loop over for each unit to extract information. Further, we preprocess and write the xml file. JSON library is used to dump the data."
   ]
  },
  {
   "cell_type": "markdown",
   "metadata": {},
   "source": [
    "## Importing the given modules and opening the file"
   ]
  },
  {
   "cell_type": "code",
   "execution_count": 20,
   "metadata": {},
   "outputs": [],
   "source": [
    "import re\n",
    "import json\n",
    "\n",
    "# Keep the file in the same working directory\n",
    "with open('Data.txt','r') as file:\n",
    "    extract=file.read()\n",
    "\n",
    "## Test file\n",
    "#with open('test.txt','r') as file:\n",
    "#    extract=file.read()\n",
    "    \n",
    "# Observing the pattern"
   ]
  },
  {
   "cell_type": "markdown",
   "metadata": {},
   "source": [
    "We first extract the information between the tags and store it as list of string"
   ]
  },
  {
   "cell_type": "code",
   "execution_count": 21,
   "metadata": {},
   "outputs": [],
   "source": [
    "#information for a subject is located in the container. Extracting the container by finding pattern in the tags\n",
    "#Performing the lazy search to search for shortest string between the two tags\n",
    "information=re.findall('<div class=\"content-inner__main\">((.|\\n)*?)<!-- /.content_container--> </div>',extract)"
   ]
  },
  {
   "cell_type": "markdown",
   "metadata": {},
   "source": [
    "## Observing the patterns we define functions to extract the required unit codes"
   ]
  },
  {
   "cell_type": "markdown",
   "metadata": {},
   "source": [
    "### 1. Extracting the unit code\n",
    "We find the below pattern for unit code and the unit title\n",
    "\n",
    "span class=\"unitcode\">RTS4104</span> - Radiation therapy principles and practice 1<span class=\"hbk-archive-only\"> - 2019</span"
   ]
  },
  {
   "cell_type": "code",
   "execution_count": 22,
   "metadata": {},
   "outputs": [],
   "source": [
    "#pass a dictionary to store the information in it\n",
    "#Some Unit codes\n",
    "\n",
    "def Unit_code(subject):\n",
    "    \n",
    "    #apply the regex to extract finding the pattern\n",
    "    # this will also include exceptions\n",
    "    a=re.findall('<span class=\"unitcode\">(\\w{3,5}\\d{4})?</span>',str(subject))\n",
    "    \n",
    "    if len(a)!=0:\n",
    "    \n",
    "        return a[0]\n",
    "    \n",
    "    else:\n",
    "        #Exception check\n",
    "        return 'Unitcode inappropriate'"
   ]
  },
  {
   "cell_type": "markdown",
   "metadata": {},
   "source": [
    "### 2. Title \n",
    "We find the below pattern for unit code and the unit title\n",
    "\n",
    "span class=\"unitcode\">RTS4104</span> - Radiation therapy principles and practice 1<span class=\"hbk-archive-only\"> - 2019</span"
   ]
  },
  {
   "cell_type": "code",
   "execution_count": 23,
   "metadata": {},
   "outputs": [],
   "source": [
    "# Function to extract the title of the code\n",
    "\n",
    "def titl(sent):\n",
    "    \n",
    "    #Title information is in the container with Unit code\n",
    "    a=re.findall('<span class=\"unitcode\">(\\w{3,5}\\d{4})?</span>',str(sent))\n",
    "    \n",
    "    \n",
    "    if len(a)!=0:\n",
    "        #Extracting the title in between\n",
    "        b=re.findall('<span class=\"unitcode\">\\w{3,5}\\d{4}?(.*)<span class=\"hbk-archive-only\">',str(sent))\n",
    "        \n",
    "        #Removing non-required characters\n",
    "        c=re.findall(\"- (.*)']?\",str(b))\n",
    "        return c[0]\n",
    "    "
   ]
  },
  {
   "cell_type": "markdown",
   "metadata": {},
   "source": [
    "### 3. Synopsis\n"
   ]
  },
  {
   "cell_type": "code",
   "execution_count": 24,
   "metadata": {},
   "outputs": [],
   "source": [
    "#Synopsis\n",
    "def Syno(extract):\n",
    "    \n",
    "    # Container with the information of synopsis\n",
    "    a=re.findall(\"Synopsis</h2>\\\\\\\\n<div>\\\\\\\\n<p>(.*?)</p>\",str(extract))\n",
    "    \n",
    "    # Case when there is no synopsis\n",
    "    if len(a)==0:\n",
    "        a=\"NA\"\n",
    "    \n",
    "    #removing unwanted characters\n",
    "    b=a[0].replace(\"\\\\\",\"\")\n",
    "    \n",
    "    #returning the synopsis\n",
    "    return re.sub('<.*?>',\"\",b)"
   ]
  },
  {
   "cell_type": "markdown",
   "metadata": {},
   "source": [
    "### 4. Pre-requisites"
   ]
  },
  {
   "cell_type": "code",
   "execution_count": 25,
   "metadata": {},
   "outputs": [],
   "source": [
    "#Pre-requisites\n",
    "def PreReq(extract):\n",
    "    \n",
    "    # initialising required objects\n",
    "    mylist=list()\n",
    "    a_list=list()\n",
    "    \n",
    "    # The case to check whether there are pre-requisites\n",
    "    if len(re.findall(\"Prerequisites\",str(extract)))!=0:\n",
    "        \n",
    "        # Pre-requisites are in between in the container with this pattern\n",
    "        a=re.findall(\"Prerequisites</p>((.|\\n)*?)</p>\",str(extract))\n",
    "        \n",
    "        # Finding unique pre-requisites, we make use of set\n",
    "        for i in set(re.findall('\\w{3,5}\\d{4}',str(a))):\n",
    "            a_list.append(i)\n",
    "            \n",
    "        # Substitute unwanted characters\n",
    "        for i in a_list:\n",
    "            i=re.sub(\">\",\"\",i)\n",
    "            i=re.sub(\"<\",\"\",i)\n",
    "            mylist.append(i)\n",
    "            \n",
    "    # Similar approach for co-requisites\n",
    "    a_list=list()\n",
    "    if len(re.findall(\"Co-requisites\",str(extract)))!=0:\n",
    "        a=re.findall(\"Co-requisites</p>((.|\\n)*?)</p>\",str(extract))\n",
    "\n",
    "        for i in set(re.findall('\\w{3,5}\\d{4}',str(a))):\n",
    "            a_list.append(i)\n",
    "        for i in a_list:\n",
    "            i=re.sub(\">\",\"\",i)\n",
    "            i=re.sub(\"<\",\"\",i)\n",
    "            mylist.append(i)\n",
    "    \n",
    "    # If there are no pre requisites or co-requisites\n",
    "    if len(re.findall(\"Prerequisites\",str(extract)))==0 + len(re.findall(\"Co-requisites\",str(extract)))==0:\n",
    "        \n",
    "            mylist.append('NA')\n",
    "    else:\n",
    "        # Case when there are pre-requisites but not satisfying the condition of the unit code\n",
    "        if len(mylist)==0:\n",
    "            mylist.append('NA')\n",
    "            \n",
    "    return mylist"
   ]
  },
  {
   "cell_type": "markdown",
   "metadata": {},
   "source": [
    "### 5. Prohibitions"
   ]
  },
  {
   "cell_type": "code",
   "execution_count": 26,
   "metadata": {},
   "outputs": [],
   "source": [
    "# Prohibitions\n",
    "def Prohibitions(extract):\n",
    "    # Initiating the objects required\n",
    "    mylist=list()\n",
    "    a_list=list()\n",
    "    \n",
    "    # Condition to check whether there are prohibitions or not\n",
    "    if len(re.findall(\"Prohibitions\",str(extract)))!=0:\n",
    "        \n",
    "        # Container with the Information of prohibitions\n",
    "        a=re.findall(\"Prohibitions</p>((.|\\n)*?)</p>\",str(extract))\n",
    "        \n",
    "        # Looping to get all the prohibitions\n",
    "        for i in set(re.findall('>\\w{3,5}\\d{4}<',str(a))):\n",
    "            \n",
    "            a_list.append(i)\n",
    "        \n",
    "        # Removing unwanted characters\n",
    "        for i in a_list:\n",
    "\n",
    "            i=re.sub(\">\",\"\",i)\n",
    "            i=re.sub(\"<\",\"\",i)\n",
    "            mylist.append(i)\n",
    "            \n",
    "    # Case when there are not prohibitions            \n",
    "    if len(re.findall(\"Prohibitions\",str(extract)))==0:\n",
    "        \n",
    "            mylist.append('NA')\n",
    "    else:\n",
    "        # Case when it has garbage values\n",
    "        if len(mylist)==0:\n",
    "            \n",
    "            mylist.append('NA')\n",
    "            \n",
    "    return mylist"
   ]
  },
  {
   "cell_type": "markdown",
   "metadata": {},
   "source": [
    "### 6. Requirements"
   ]
  },
  {
   "cell_type": "code",
   "execution_count": 27,
   "metadata": {},
   "outputs": [],
   "source": [
    "# Requirements\n",
    "def Require(extract):\n",
    "    \n",
    "    # Case when there is no assessment\n",
    "    if len(re.findall(\"Assessment\",str(extract)))==0:\n",
    "        \n",
    "        return ['NA']\n",
    "    \n",
    "    # For assessment information\n",
    "    else:\n",
    "        # Container with assessment Information\n",
    "        a=re.findall(\"Assessment</h2>((.|\\n)*?)<h2\",str(extract))\n",
    "        \n",
    "        #Information required is between the two tags\n",
    "        b=re.findall('<p>(.*?)</p>',str(a))\n",
    "        \n",
    "        # Initiating a list to append and return\n",
    "        c=list()\n",
    "        for i in b:\n",
    "            # Remove unwanted links in between such as <http://www.monash.edu/timetables>\n",
    "            i=re.sub(\"<(.*?)>\",\"\",i)\n",
    "            c.append(i)\n",
    "\n",
    "        return c"
   ]
  },
  {
   "cell_type": "markdown",
   "metadata": {},
   "source": [
    "### 7. Outcomes"
   ]
  },
  {
   "cell_type": "code",
   "execution_count": 28,
   "metadata": {},
   "outputs": [],
   "source": [
    "# Outcomes\n",
    "def Outcomes(extract):\n",
    "    \n",
    "    # Case for no outcomes\n",
    "    if len(re.findall(\"Outcomes\",str(extract)))==0:\n",
    "        \n",
    "        return ['NA']\n",
    "    \n",
    "    else:\n",
    "        # Container with the information of outcomes\n",
    "        a=re.findall(\"<ol.*?>((.|\\n)*?)</ol>\",str(extract))\n",
    "        \n",
    "        # Extracting information between the multiple tags\n",
    "        b=re.findall('>(.*?)<',str(a))\n",
    "        \n",
    "        #Initiating the object\n",
    "        c=list()\n",
    "        \n",
    "        for i in b:\n",
    "            if \"\\\\\\\\n\" not in i:\n",
    "                \n",
    "                # Replacing the unwanted characters\n",
    "                i.replace('\\\\','')\n",
    "                \n",
    "                if i!='':\n",
    "                    c.append(i)\n",
    "                \n",
    "        return c\n",
    "    "
   ]
  },
  {
   "cell_type": "markdown",
   "metadata": {},
   "source": [
    "### 8. Chief Examiner"
   ]
  },
  {
   "cell_type": "code",
   "execution_count": 29,
   "metadata": {},
   "outputs": [],
   "source": [
    "def CheExam(extract):\n",
    "    \n",
    "    # Checking whether there is chief examiner\n",
    "    if len(re.findall(\"Chief examiner\",str(extract)))==0:\n",
    "        return ['TBA']\n",
    "    \n",
    "    else:\n",
    "        \n",
    "        a_list=list()\n",
    "        \n",
    "        if len(re.findall(\"Chief examiner\",str(extract)))!=0:\n",
    "            \n",
    "            # Information of chief examiner\n",
    "            a=re.findall(\"Chief examiner...</p>((.|\\n)*?)</p>\",str(extract))\n",
    "            \n",
    "            # Pattern for chief examiners in the container\n",
    "            for i in set(re.findall('>(.*?)<',str(a))):\n",
    "\n",
    "                # Removing unwanted characters\n",
    "                if \"\\\\\\\\n\" not in i:\n",
    "                    i=i.replace(\"\\\\\",\"\")\n",
    "                    \n",
    "                    if i!='':\n",
    "                        a_list.append(i)\n",
    "                        \n",
    "            # Case for no chief examiner\n",
    "            if len(a_list)==0:\n",
    "                a_list=[\"TBA\"]\n",
    "                \n",
    "        return a_list"
   ]
  },
  {
   "cell_type": "markdown",
   "metadata": {},
   "source": [
    "### Compiling all the information"
   ]
  },
  {
   "cell_type": "code",
   "execution_count": 30,
   "metadata": {},
   "outputs": [],
   "source": [
    "# Compiling all the information to a dictionary to print in the XML\n",
    "def Compiler_xml(info):\n",
    "    # Inititating the dictionary\n",
    "    a_dict=dict()\n",
    "    \n",
    "    #Combining all the information in a single dictionary\n",
    "    a_dict['Unitcode']=Unit_code(info)\n",
    "    a_dict['Prerequisite']=PreReq(info)\n",
    "    a_dict['Prohibitions']=Prohibitions(info)\n",
    "    a_dict['Outputs']=Outcomes(info)\n",
    "    a_dict['Chief Examiner']=CheExam(info)\n",
    "    a_dict['Synopsis']=Syno(info)\n",
    "    a_dict['Requirements']=Require(info)\n",
    "    a_dict['Title']=titl(info)\n",
    "\n",
    "    return a_dict"
   ]
  },
  {
   "cell_type": "markdown",
   "metadata": {},
   "source": [
    "### Sample output"
   ]
  },
  {
   "cell_type": "code",
   "execution_count": 31,
   "metadata": {},
   "outputs": [
    {
     "data": {
      "text/plain": [
       "{'Unitcode': 'DIS3905',\n",
       " 'Prerequisite': ['DIS2601', 'OHS1000'],\n",
       " 'Prohibitions': ['NA'],\n",
       " 'Outputs': ['Utilise a range of software applications (including sound and media authoring) to an advanced level in the creation, editing and realization of conceptual digital audio video works;',\n",
       "  'Have an advanced practical and critical understanding of video production (including various lighting conditions, advanced camera operations and audio recording techniques);',\n",
       "  'Be able to produce a major body of work which demonstrates advanced technique integrally linked with ambitious ideas;',\n",
       "  'Have an advanced understanding of video encoding for a range a distribution methods (web, DVD authoring, digital media players);',\n",
       "  'Be able to apply highly polished audio video production skills to a range of potential output considerations such as: film, video, short film, television, documentary, web, documentation and video art',\n",
       "  'Have considered how their work is placed in the context of current art and design practice;',\n",
       "  'Be able to articulate their practice with clarity and insight to a high standard;',\n",
       "  'Understand key production roles such as: producer, director, art director, director of photography, lighting, sound recordist and editor;',\n",
       "  'Observe and employ occupational health and safety appropriate to studio practice.'],\n",
       " 'Chief Examiner': ['Mr Jeffrey Janet'],\n",
       " 'Synopsis': \"This unit extends student's knowledge of concepts and tools applicable to digital and audio production techniques. It builds sequentially upon the skills and knowledge of preceding units by providing a focus upon advanced principles of digital audio and video design and industry-standard software applications. With a greater focus on specialization the students will concentrate on utilizing the medium to a professional level. Emphasis is placed upon exploring the potential of digital video and audio as a medium for inclusion in a wide range of communications and multimedia applications and over various contexts. In this unit student's knowledge will also extend beyond video editing software to sound and DVD authoring applications. Emphasis is placed upon students developing their creative skills through a combination of directed and self-directed practice. On completion students will then be able to confidently return to their studios and utilize these skills artistically and/or commercially with a higher degree of professionalism and understanding of the medium.\",\n",
       " 'Requirements': ['Folio (which includes progressive assessment) (90%)',\n",
       "  'Journal (10%)'],\n",
       " 'Title': 'Digital audio video - advanced production'}"
      ]
     },
     "execution_count": 31,
     "metadata": {},
     "output_type": "execute_result"
    }
   ],
   "source": [
    "Compiler_xml(information[0])"
   ]
  },
  {
   "cell_type": "markdown",
   "metadata": {},
   "source": [
    "### Creating a list of all the unit code dictionaries for XML"
   ]
  },
  {
   "cell_type": "code",
   "execution_count": 32,
   "metadata": {},
   "outputs": [
    {
     "data": {
      "text/plain": [
       "400"
      ]
     },
     "execution_count": 32,
     "metadata": {},
     "output_type": "execute_result"
    }
   ],
   "source": [
    "my_list=list()\n",
    "for i in information:\n",
    "    # Appending it to an iterable object to easily access the dictionary\n",
    "    my_list.append(Compiler_xml(i))\n",
    "\n",
    "# Checking the number of units\n",
    "len(my_list)"
   ]
  },
  {
   "cell_type": "markdown",
   "metadata": {},
   "source": [
    "### Testing"
   ]
  },
  {
   "cell_type": "code",
   "execution_count": 33,
   "metadata": {},
   "outputs": [
    {
     "data": {
      "text/plain": [
       "373"
      ]
     },
     "execution_count": 33,
     "metadata": {},
     "output_type": "execute_result"
    }
   ],
   "source": [
    "test_list=list()\n",
    "for i in my_list:\n",
    "    test_list.append(i[\"Unitcode\"])\n",
    "len(set(test_list)) ## Check the unique units\n",
    "## Thus, we have units that are repeated.\n"
   ]
  },
  {
   "cell_type": "markdown",
   "metadata": {},
   "source": [
    "### Explanation\n",
    "As this task does not require to process the data but rather to extract the information. We keep the duplicated units as it is and continue."
   ]
  },
  {
   "cell_type": "markdown",
   "metadata": {},
   "source": [
    "### Creating the XML file"
   ]
  },
  {
   "cell_type": "code",
   "execution_count": 34,
   "metadata": {},
   "outputs": [],
   "source": [
    "## Manually creating XML Output\n",
    "\n",
    "##============================================\n",
    "## Testing code\n",
    "#with open(\"test_output1.xml\", \"w\") as a_file:\n",
    "\n",
    "##============================================\n",
    "\n",
    "with open(\"Output.xml\", \"w\") as a_file:\n",
    "    a_file.write(\"<?xml version=\\\"1.0\\\" encoding=\\\"UTF-8\\\" ?>\"+\"\\n\"+\"<units>\")\n",
    "    for j in range(0,len(my_list)):\n",
    "        \n",
    "        # XML Unit format\n",
    "        unit=\"<unit id=\\\"\"+my_list[j]['Unitcode']+\"\\\">\"\n",
    "        \n",
    "        # Title\n",
    "        title=\"<title>\"+my_list[j]['Title']+\"</title>\"\n",
    "        \n",
    "        # Synopsis\n",
    "        syno=\"<synopsis>\"+my_list[j]['Synopsis']+\"</synopsis>\"\n",
    "        \n",
    "        # Pre-requisites\n",
    "        in_pr=\"\"\n",
    "        if len(my_list[j][\"Prerequisite\"])>1:\n",
    "            for i in my_list[j][\"Prerequisite\"]:\n",
    "                in_pr+=\"<pre_requistic>\"+i+\"</pre_requistic>\"\n",
    "        else:\n",
    "            in_pr=my_list[j][\"Prerequisite\"][0]\n",
    "        prerequisite=\"<pre_requistics>\"+\"\\n\"+in_pr+\"\\n\"+\"</pre_requistics>\"\n",
    "        \n",
    "        # Prohibitions\n",
    "        in_po=\"\"\n",
    "        if len(my_list[j][\"Prohibitions\"])>1:\n",
    "            for i in my_list[j][\"Prohibitions\"]:\n",
    "                in_po+=\"<prohibision>\"+i+\"</prohibision>\"\n",
    "        else:\n",
    "            in_po+=my_list[j][\"Prohibitions\"][0]\n",
    "        prohibision=\"<prohibisions>\"+\"\\n\"+in_po+\"\\n\"+\"</prohibisions>\"\n",
    "        \n",
    "        # Requirements\n",
    "        in_req=\"\"\n",
    "        for i in my_list[j][\"Requirements\"]:\n",
    "            in_req+=\"<requirement>\"+i+\"</requirement>\"\n",
    "        req=\"<requirements>\"+\"\\n\"+in_req+\"\\n\"+\"</requirements>\"\n",
    "        \n",
    "        # Outcomes\n",
    "        in_out=\"\"\n",
    "        for i in my_list[j][\"Outputs\"]:\n",
    "            in_out+=\"<outcome>\"+i+\"</outcome>\"\n",
    "        outcome=\"<outcomes>\"+\"\\n\"+in_out+\"\\n\"+\"</outcomes>\"\n",
    "        \n",
    "        # Chief Examiner\n",
    "        in_ce=\"\"\n",
    "        for i in my_list[j][\"Chief Examiner\"]:\n",
    "            if my_list[j][\"Chief Examiner\"]==['TBA']:\n",
    "                in_ce=\"TBA\"\n",
    "            else:\n",
    "                in_ce+=\"<chief_examiner>\"+i+\"</chief_examiner>\"\n",
    "        Chief_examiner=\"<chief_examiners>\"+in_ce+\"</chief_examiners>\"\n",
    "        \n",
    "        # Writing the xml file\n",
    "        a_file.write(\"\\n\"+unit+\"\\n\")\n",
    "        a_file.write(title+\"\\n\")\n",
    "        a_file.write(syno+\"\\n\")\n",
    "        a_file.write(prerequisite+\"\\n\")\n",
    "        a_file.write(prohibision+\"\\n\")\n",
    "        a_file.write(req+\"\\n\")\n",
    "        a_file.write(outcome+\"\\n\")\n",
    "        a_file.write(Chief_examiner+\"\\n\"+\"</unit>\")\n",
    "        \n",
    "    a_file.write(\"</units>\")\n"
   ]
  },
  {
   "cell_type": "markdown",
   "metadata": {},
   "source": [
    "### Creating a json compiler for the format specific to json file"
   ]
  },
  {
   "cell_type": "code",
   "execution_count": 35,
   "metadata": {},
   "outputs": [],
   "source": [
    "## Json file output\n",
    "def Compiler_json(info):\n",
    "    udict=dict()\n",
    "    \n",
    "    udict[\"@id\"]=Unit_code(info)\n",
    "    udict['title']=titl(info)\n",
    "    udict['synopsis']=Syno(info)\n",
    "    \n",
    "    if PreReq(info)==['NA']:\n",
    "        udict['pre_requistics']=\"NA\"\n",
    "    else:\n",
    "        sdict=dict()\n",
    "        if len(PreReq(info))==1:\n",
    "            sdict[\"pre_requistic\"]=PreReq(info)[0]\n",
    "        else:\n",
    "            sdict[\"pre_requistic\"]=PreReq(info)\n",
    "        udict['pre_requistics']=sdict\n",
    "        \n",
    "    if Prohibitions(info)==['NA']:\n",
    "        udict['prohibisions']=\"NA\"\n",
    "    else:\n",
    "        sdict=dict()\n",
    "        if len(Prohibitions(info))==1:\n",
    "            sdict[\"prohibision\"]=Prohibitions(info)[0]\n",
    "        else:\n",
    "            sdict[\"prohibision\"]=Prohibitions(info)\n",
    "        udict['prohibisions']=sdict\n",
    "    \n",
    "    if Require(info)==['NA']:\n",
    "        udict['requirements']=\"NA\"\n",
    "    else:\n",
    "        sdict=dict()\n",
    "        if len(Require(info))==1:\n",
    "            sdict[\"requirement\"]=Require(info)[0]\n",
    "        else:\n",
    "            sdict[\"requirement\"]=Require(info)\n",
    "        udict['requirements']=sdict\n",
    "    \n",
    "    if Outcomes(info)==['NA']:\n",
    "        udict['outcomes']=\"NA\"\n",
    "    else:\n",
    "        sdict=dict()\n",
    "        if len(Outcomes(info))==1:\n",
    "            sdict[\"outcome\"]=Outcomes(info)[0]\n",
    "        else:\n",
    "            sdict[\"outcome\"]=Outcomes(info)\n",
    "        udict['outcomes']=sdict\n",
    "    \n",
    "    if CheExam(info)==['TBA']:\n",
    "        udict['chief_examiners']=\"TBA\"\n",
    "    else:\n",
    "        sdict=dict()\n",
    "        if len(CheExam(info))==1:\n",
    "            sdict[\"chief_examiner\"]=CheExam(info)[0]\n",
    "        else:\n",
    "            sdict[\"chief_examiner\"]=CheExam(info)\n",
    "        udict['chief_examiners']=sdict\n",
    "    \n",
    "    return udict"
   ]
  },
  {
   "cell_type": "markdown",
   "metadata": {},
   "source": [
    "### Sample json output"
   ]
  },
  {
   "cell_type": "code",
   "execution_count": 36,
   "metadata": {},
   "outputs": [
    {
     "data": {
      "text/plain": [
       "{'@id': 'OPM5003',\n",
       " 'title': 'Managing project knowledge',\n",
       " 'synopsis': \"The unit explores the role of formal and informal knowledge networks in project delivery. It focuses on developing an understanding of how project managers acquire and exchange knowledge, and how this knowledge impacts on their actions. The unit incorporates concepts and theories from various disciplines aligned to project management and knowledge management to enrich students' understanding of the socio-technical aspects of project management.\",\n",
       " 'pre_requistics': 'NA',\n",
       " 'prohibisions': {'prohibision': ['FIT5178', 'FIT5194', 'FIT5057']},\n",
       " 'requirements': {'requirement': 'In-semester assessment: 100%'},\n",
       " 'outcomes': {'outcome': ['Evaluate, assess and communicate different project management perspectives to meet contextual demands.',\n",
       "   'Critically reflect on and improve practice through effective management of knowledge in a project context.',\n",
       "   'Contrast and assess the most effective communication techniques to form knowledge networks to manage different project scenarios.',\n",
       "   'Critically analyse and identify tools and techniques to acquire and exchange knowledge using technical and social approaches in a project context.',\n",
       "   'Design and apply creative communication techniques to present group responses across different stakeholders and scenarios.']},\n",
       " 'chief_examiners': {'chief_examiner': 'Associate Professor Chivonne Algeo'}}"
      ]
     },
     "execution_count": 36,
     "metadata": {},
     "output_type": "execute_result"
    }
   ],
   "source": [
    "Compiler_json(information[80])"
   ]
  },
  {
   "cell_type": "markdown",
   "metadata": {},
   "source": [
    "### Creating a json output"
   ]
  },
  {
   "cell_type": "code",
   "execution_count": 37,
   "metadata": {},
   "outputs": [],
   "source": [
    "unit_list=list()\n",
    "for i in information:\n",
    "\n",
    "    unit_list.append(Compiler_json(i))\n",
    "adict=dict()\n",
    "\n",
    "adict['unit']=unit_list\n",
    "\n",
    "json_dict=dict()\n",
    "# Creating a dictionary to dump the json output\n",
    "json_dict['units']=adict\n",
    "\n",
    "## Writing the json output\n",
    "with open('Output.json', 'w') as test_json_output:\n",
    "    json.dump(json_dict, test_json_output,indent=4)\n",
    "\n",
    "#with open('test_output1.json', 'w') as test_json_output:\n",
    "#    json.dump(json_dict, test_json_output,indent=4)"
   ]
  },
  {
   "cell_type": "markdown",
   "metadata": {},
   "source": [
    "### Testing to check whether the documents generated are parsable or not"
   ]
  },
  {
   "cell_type": "code",
   "execution_count": 38,
   "metadata": {},
   "outputs": [],
   "source": [
    "#import xml.etree.ElementTree as ET\n",
    "#root = ET.parse('29389429.xml').getroot()\n",
    "#len(root)\n",
    "\n",
    "#with open('29389429.json', 'r') as f:\n",
    "  #  distros_dict = json.load(f)\n",
    "#print(distros_dict)"
   ]
  }
 ],
 "metadata": {
  "kernelspec": {
   "display_name": "Python 3",
   "language": "python",
   "name": "python3"
  },
  "language_info": {
   "codemirror_mode": {
    "name": "ipython",
    "version": 3
   },
   "file_extension": ".py",
   "mimetype": "text/x-python",
   "name": "python",
   "nbconvert_exporter": "python",
   "pygments_lexer": "ipython3",
   "version": "3.7.0"
  }
 },
 "nbformat": 4,
 "nbformat_minor": 2
}
