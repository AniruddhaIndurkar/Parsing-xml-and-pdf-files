{
 "cells": [
  {
   "cell_type": "markdown",
   "metadata": {},
   "source": [
    "# Parsing PDF file\n",
    "## Task 2"
   ]
  },
  {
   "cell_type": "markdown",
   "metadata": {},
   "source": [
    "#### Name: Aniruddha Indurkar\n",
    "#### Date: 14/04/2019\n",
    "\n",
    "Environment: Python 3.6.3 and Jupyter notebook Libraries used\n",
    "\n",
    "* PyPDF2\n",
    "* re\n",
    "* nltk.collocation\n",
    "* nltk.tokenise\n",
    "* matplotlib\n",
    "* itertools"
   ]
  },
  {
   "cell_type": "markdown",
   "metadata": {},
   "source": [
    "\n",
    "## Introduction\n",
    "This analysis extracts data from an pdf-based corpus containing 200 unit information. Data was extracted by reading the input file 'Data.pdf', splitting at the document by recognising patterns and then creating a list where each item in the list holds the full XML for each individual patent.\n",
    "\n",
    "Data relating to outcome and synopsis was extracted using the package `PyPDF2` to extract values from specific pdf document. Similarly, the text associated with units for further pre-processing.\n",
    "\n",
    "Text pre-processing was performed with the objective of extracting and transforming the information for each unit into a vector space model.  The pre-processing included tokenisation (unigrams and bigrams), stemming and removal of stopwords. Additionally, the most frequent and least frequent words were removed, and meaningful bigrams were identified.  The initial tokenised vocabulary of the corpus was 9690 words, which was reduced to 4906 words following pre-processing."
   ]
  },
  {
   "cell_type": "markdown",
   "metadata": {},
   "source": [
    "## Importing the module"
   ]
  },
  {
   "cell_type": "code",
   "execution_count": 21,
   "metadata": {},
   "outputs": [],
   "source": [
    "# We make use of PyPDF2 to read the files\n",
    "import PyPDF2\n",
    "import re"
   ]
  },
  {
   "cell_type": "markdown",
   "metadata": {},
   "source": [
    "## Opening the pdf and saving the file in variable\n",
    "\n",
    "#### Reference of the code:\n",
    "* Site: Stackoverflow\n",
    "* Webpage title: How to read line by line in pdf file using PyPdf?\n",
    "* url: https://stackoverflow.com/questions/2481945/how-to-read-line-by-line-in-pdf-file-using-pypdf\n",
    "* Author: Sandeep\n",
    "* Date: 05/05/2011"
   ]
  },
  {
   "cell_type": "code",
   "execution_count": 22,
   "metadata": {},
   "outputs": [],
   "source": [
    "# Reading the pdf file\n",
    "# The following code has been referred from stackoverflow from the site given below:\n",
    "#https://stackoverflow.com/questions/2481945/how-to-read-line-by-line-in-pdf-file-using-pypdf\n",
    "\n",
    "#author: Sandeep (May 5, 2011)\n",
    "pdf_file = open('29389429.pdf', 'rb')\n",
    "\n",
    "read_pdf = PyPDF2.PdfFileReader(pdf_file)\n"
   ]
  },
  {
   "cell_type": "code",
   "execution_count": 23,
   "metadata": {},
   "outputs": [],
   "source": [
    "# The following code has been referred from stackoverflow from the site given below:\n",
    "#https://stackoverflow.com/questions/2481945/how-to-read-line-by-line-in-pdf-file-using-pypdf\n",
    "\n",
    "#author: Sandeep (May 5, 2011)\n",
    "\n",
    "# We store the number of pages\n",
    "number_of_pages = read_pdf.getNumPages()\n",
    "page = read_pdf.getPage(1)\n",
    "page_content = page.extractText()\n",
    "data=page_content.encode('utf-8')\n",
    "\n",
    "# Converting the data into string\n",
    "data=str(data)\n",
    "\n",
    "# Observe the file pattern"
   ]
  },
  {
   "cell_type": "markdown",
   "metadata": {},
   "source": [
    "### We observe a pattern that the information for a particular unit including the synopsis and outcome is seperated by a ']'. Thus, we exploit this observation and split the data for a units accordingly. \n",
    "\n",
    "For example,\n",
    "\n",
    "b\"CPS5002\\nThis unit will explore the history, theory and principles\\nof Developmental Observation and its relevance to\\nclinical and consultative work with children and\\nadolescents. There will be a consideration of the\\nnature of the links between observation and the\\ndevelopmental theories. Students will be able to\\nexplore these areas both through the context of the\\ncourse work and prescribed observations of children\\nin their naturalistic settings.\\n ['evaluate the relevance of observation skills to the\\nunderstanding of children and adolescents in both\\ntherapeutic and consultative work;', 'analyse the\\nnature of links between observation and the\\ndevelopmental theories;', 'monitor and evaluate their\\nown responses to what is observed and critically apply\\nthese in their work;', 'critically evaluate their\\nobservations in discussion and in written assignments;\\nand', 'integrate Developmental Observation theory,\\nhistory and principles with observation experiences\\nand their clinical work, demonstrating these processes\\nin accounts of their own learning.'].\n",
    "\n",
    "### Similarly, the key distinguisher between outcome and synopsis is '['.\n",
    "### We make use of regex to extract the unit code.\n",
    "\n"
   ]
  },
  {
   "cell_type": "markdown",
   "metadata": {},
   "source": [
    "### Extracting the unit from PDF"
   ]
  },
  {
   "cell_type": "code",
   "execution_count": 24,
   "metadata": {},
   "outputs": [],
   "source": [
    "def unit_code(string):\n",
    "    #The pattern we find in the pdf document. Split according to the '['\n",
    "    a1=string.split(\"[\")\n",
    "    \n",
    "    # Slice for unit information with synopsis\n",
    "    # we expect the unit code to be within the first 10 characters.\n",
    "    a2=a1[0][:10]\n",
    "\n",
    "    #return a valid unit code.\n",
    "    if len(re.findall(\"\\w{3}\\d{4}\",str(a2)))!=0:\n",
    "        \n",
    "        return re.findall(\"\\w{3}\\d{4}\",str(a2))[0]"
   ]
  },
  {
   "cell_type": "markdown",
   "metadata": {},
   "source": [
    "### Extracting the Synopsis"
   ]
  },
  {
   "cell_type": "code",
   "execution_count": 25,
   "metadata": {},
   "outputs": [],
   "source": [
    "def Synopsis(data):\n",
    "    a1=data.split(\"[\")\n",
    "    \n",
    "    return re.sub(\"\\\\\\\\n\",\" \",a1[0][11:])"
   ]
  },
  {
   "cell_type": "markdown",
   "metadata": {},
   "source": [
    "### Extracting the outcome\n",
    "\n",
    "The list of outcomes ends with \";\" . In this case we replace these by \".\", in order to create stop words, so that the normalisation process will be correct."
   ]
  },
  {
   "cell_type": "code",
   "execution_count": 26,
   "metadata": {},
   "outputs": [],
   "source": [
    "def Outcome(data):\n",
    "    # Split to get the string we want\n",
    "    a1=data.split(\"[\")\n",
    "    \n",
    "    # removing unwanted tokens\n",
    "    out=re.sub(\"\\\\\\\\n\",\" \",\"[\"+a1[1]+\"]\")\n",
    "    out=re.sub(\"\\\\\\\\\",\"\",out)\n",
    "    \n",
    "    # Subbing the ; with . \";\" represents the end of sentence in token. We do that in order to normalise correctly\n",
    "    out=re.sub(\";\",\".\",out)\n",
    "    \n",
    "    b1=re.findall(\"\\[(.*?)]\",out)\n",
    "    \n",
    "    # Cleaning the string\n",
    "    out=re.sub(\"', '\",\" \",out)\n",
    "    out=re.sub(\"\\[\",\"\",out) \n",
    "    \n",
    "    return re.sub(\"]\",\"\",out)"
   ]
  },
  {
   "cell_type": "markdown",
   "metadata": {},
   "source": [
    "### Reading the entire data to extract information"
   ]
  },
  {
   "cell_type": "code",
   "execution_count": 27,
   "metadata": {},
   "outputs": [],
   "source": [
    "number_of_pages = read_pdf.getNumPages()\n",
    "\n",
    "# List to store information about each unit\n",
    "a=list()\n",
    "\n",
    "# Looping through the number of pages\n",
    "for i in range(number_of_pages):\n",
    "    \n",
    "    page = read_pdf.getPage(i)\n",
    "    page_content = page.extractText()\n",
    "    data=page_content.encode('utf-8')\n",
    "    data=str(data)\n",
    "    \n",
    "    # Substituting characters that are not required\n",
    "    re.sub(\"\\\\\\\\n\",\" \",data)\n",
    "    re.sub(\"\\\\\\\\\",\"\",data)\n",
    "    \n",
    "    # Title Synopsis and outcome are occuring on the start of every page hence they are removed\n",
    "    data=re.sub(\"Title\\\\\\\\nSynopsis\\\\\\\\nOutcomes\\\\\\\\n\",\"\",data)\n",
    "    k=data.split(\"]\")    \n",
    "\n",
    "   \n",
    "    for i in k:\n",
    "        # Dictionary containing synopsis and outcome\n",
    "        ad=dict()\n",
    "\n",
    "        units=unit_code(i)\n",
    "\n",
    "        if units is not None:\n",
    "            ad['Unit']=units  \n",
    "            ad['Outcome']=Outcome(i)\n",
    "            ad['Synopsis']=Synopsis(i)\n",
    "            a.append(ad)\n"
   ]
  },
  {
   "cell_type": "markdown",
   "metadata": {},
   "source": [
    "### Refining the dictionary"
   ]
  },
  {
   "cell_type": "code",
   "execution_count": 28,
   "metadata": {},
   "outputs": [],
   "source": [
    "# Refining the dictionary, as not all pages are the same\n",
    "for i in a:\n",
    "    \n",
    "    # Unwanted characters to be removed\n",
    "    i['Outcome']=str(re.sub(\"\\\\\\\\\",\"\",i['Outcome']))\n",
    "    i['Outcome']=str(re.sub(\"\\.,\",\"\\. \",i['Outcome']))\n",
    "    i['Outcome']=str(re.sub(\"\\'\",\" \\' \",i['Outcome']))\n",
    "    i['Outcome']=str(re.sub(\"\\'\",\"\",str(i['Outcome'])))\n"
   ]
  },
  {
   "cell_type": "code",
   "execution_count": 29,
   "metadata": {},
   "outputs": [
    {
     "name": "stdout",
     "output_type": "stream",
     "text": [
      "  Students who have completed this unit will have an enhanced ability to critically analyse and evaluate the concepts employed in, and the doctrines accepted by, the world  s religions, as well as to put forward ideas and arguments of their own in a clear and coherent way. (\"Monash Graduates will be critical and creative scholars who apply research skills to a range of challenges, and communicate perceptively and effectively.\") Students who have completed this unit will have an enhanced knowledge of theories of religion, and of key issues in contemporary studies of religion.  \n",
      "==================\n",
      "{'Unit': 'ATS1040', 'Outcome': '  Students who have completed this unit will have an enhanced ability to critically analyse and evaluate the concepts employed in, and the doctrines accepted by, the world  s religions, as well as to put forward ideas and arguments of their own in a clear and coherent way. (\"Monash Graduates will be critical and creative scholars who apply research skills to a range of challenges, and communicate perceptively and effectively.\") Students who have completed this unit will have an enhanced knowledge of theories of religion, and of key issues in contemporary studies of religion.  ', 'Synopsis': 'This unit is a general introduction to the study of religions, spirituality, and belief and non-belief, in the contemporary world. In particular, it introduces a range of theoretical and methodological approaches, and examines some of the pressing intellectual questions that are raised by (and for) religions, spirituality, belief and non-belief. '}\n"
     ]
    }
   ],
   "source": [
    "import collections\n",
    "# Sample outcome\n",
    "for i in a:\n",
    "    if i['Unit']==\"ATS1040\":\n",
    "        print(i['Outcome'])\n",
    "        print(\"==================\")\n",
    "        print(i)\n",
    "## We observe that 'ATS2172' unit is repeated 2 times"
   ]
  },
  {
   "cell_type": "code",
   "execution_count": null,
   "metadata": {},
   "outputs": [],
   "source": []
  },
  {
   "cell_type": "markdown",
   "metadata": {},
   "source": [
    "### Unit list containing the combined Synopsis and Outcome text"
   ]
  },
  {
   "cell_type": "code",
   "execution_count": 30,
   "metadata": {},
   "outputs": [],
   "source": [
    "# To combine outcome and synopsis to create a new list\n",
    "unit_list=list()\n",
    "\n",
    "for i in a:\n",
    "    unit_dict=dict()\n",
    "    unit=i[\"Unit\"]\n",
    "    x=re.sub(\"\\.\\'\",\"\\.\",i['Outcome']+\" \"+i['Synopsis'])\n",
    "    unit_dict[\"unit\"]=unit\n",
    "    \n",
    "    # Removing unwanted characters\n",
    "    unit_dict[\"text\"]=re.sub(\"\\\\\\\\\",\"\",str(x))\n",
    "    \n",
    "    unit_list.append(unit_dict)\n"
   ]
  },
  {
   "cell_type": "markdown",
   "metadata": {},
   "source": [
    "### Combining the text for all the units"
   ]
  },
  {
   "cell_type": "code",
   "execution_count": 31,
   "metadata": {},
   "outputs": [],
   "source": [
    "# Combining all the units to tokens and calculate bigrams\n",
    "doc_dict=dict()\n",
    "j=\"\"\n",
    "for i in a:\n",
    "    x=re.sub(\"\\.\\'\",\"\\.\",i['Outcome']+\" \"+i['Synopsis'])\n",
    "    \n",
    "    # Refining the dictionary\n",
    "    j=j+re.sub(\"\\\\\\\\\",\"\",str(x))\n",
    "    j=re.sub(\"\\.\\ \\'\",\".\",str(j))\n",
    "    j=re.sub(\"\\.\\'\",\".\",str(j))\n",
    "    j=re.sub(\";\",\".\",str(j))\n",
    "    \n",
    "doc_dict['29389429']=j\n"
   ]
  },
  {
   "cell_type": "markdown",
   "metadata": {},
   "source": [
    "## Preprocessing the abstracts \n",
    "\n",
    "The goal of text pre-processing is to convert unstructure text into structured data. For this analysis, a sparse count vector is produced.\n",
    "\n",
    "Pre-processing of the abstract text is achieved using the following steps. Here we consider as the order to be very important:\n",
    "  -   Conversion to lower case for only the first element of the sentence and keeping the middle words capital as it is\n",
    "  -   Tokenising in order to obtain all the tokens with length greater than 3.\n",
    "  -   We choose to then find the top 200 bigrams because, if we remove stop words first, then we miss out on a few bigrams.\n",
    "  -   Retokenise for a particular unit in order to obtain bigrams.\n",
    "  -   Removal of stopwords context dependent and context independent\n",
    "  -   Porting and stemming the unique tokens obtained\n",
    "  -   Stemming the individual tokens in the unit in order to obtain the count\n",
    "\n",
    "### To obtain the count we stem the initial tokens. For example, if unit contains two words \"beautiful\" and \"beautifully\" then to obtain a count of 2 for the dictionary vocabulary word \"beauti\" we need to stem them as well.\n"
   ]
  },
  {
   "cell_type": "markdown",
   "metadata": {},
   "source": [
    "## 1. Normalise"
   ]
  },
  {
   "cell_type": "markdown",
   "metadata": {},
   "source": [
    "#### Function to convert the first word of the sentence to lower"
   ]
  },
  {
   "cell_type": "code",
   "execution_count": 32,
   "metadata": {},
   "outputs": [],
   "source": [
    "def first_lower(line):\n",
    "    list1=line.split()\n",
    "    #print(list1)\n",
    "    \n",
    "    list1[0]=list1[0].lower()\n",
    "    \n",
    "    if not re.findall(\"\\w+\",str(list1[0])):\n",
    "        list1[1]=list1[1].lower()\n",
    "    \n",
    "    for i in list1:   \n",
    "        c= \" \".join(list1)\n",
    "        \n",
    "    return c"
   ]
  },
  {
   "cell_type": "markdown",
   "metadata": {},
   "source": [
    "#### Function to convert the paragraph to sentences and lower the first word of the sentence\n",
    "* The below code is referenced from Tutorial 4 (FIT5196- Data Wrangling, Monash University)"
   ]
  },
  {
   "cell_type": "code",
   "execution_count": 33,
   "metadata": {},
   "outputs": [],
   "source": [
    "# Returns the paragraph\n",
    "import nltk.data\n",
    "def text_sent(paragraph):\n",
    "    \n",
    "    #\n",
    "    sent_detector = nltk.data.load('tokenizers/punkt/english.pickle')\n",
    "    \n",
    "    sentences = sent_detector.tokenize(paragraph)\n",
    "    j=\"\"\n",
    "    for sent in sentences:\n",
    "        first_lower(sent)\n",
    "        \n",
    "        j=j+\" \"+first_lower(sent)\n",
    "        \n",
    "    return j"
   ]
  },
  {
   "cell_type": "markdown",
   "metadata": {},
   "source": [
    "#### Normalising for the entire document as well as for individual units"
   ]
  },
  {
   "cell_type": "code",
   "execution_count": 34,
   "metadata": {},
   "outputs": [],
   "source": [
    "# Normalising the entire dictionary\n",
    "new_doc_dict=dict()\n",
    "new_doc_dict['29389429']=text_sent(doc_dict['29389429'])\n"
   ]
  },
  {
   "cell_type": "code",
   "execution_count": 35,
   "metadata": {},
   "outputs": [],
   "source": [
    "# Normalising the unit\n",
    "for unit in unit_list:\n",
    "    unit['text']=text_sent(unit['text'])\n",
    "    "
   ]
  },
  {
   "cell_type": "markdown",
   "metadata": {},
   "source": [
    "## 2. Tokenisation"
   ]
  },
  {
   "cell_type": "code",
   "execution_count": 36,
   "metadata": {},
   "outputs": [],
   "source": [
    "from bs4 import BeautifulSoup as bsoup\n",
    "import re\n",
    "import os\n",
    "import nltk\n",
    "from nltk.collocations import *\n",
    "from itertools import chain\n",
    "import itertools\n",
    "from nltk.tokenize import RegexpTokenizer\n",
    "from nltk.tokenize import MWETokenizer"
   ]
  },
  {
   "cell_type": "markdown",
   "metadata": {},
   "source": [
    "The below code is reference from Tutorial 4 (FIT5196-Data Wrangling, Monash University S1 2019)"
   ]
  },
  {
   "cell_type": "code",
   "execution_count": 37,
   "metadata": {},
   "outputs": [],
   "source": [
    "from nltk.tokenize import RegexpTokenizer \n",
    "### Tokenising using the provided regex\n",
    "tokenizer = RegexpTokenizer(r\"\\w+(?:[-']\\w+)?\")\n",
    "doc_uni_tokens = tokenizer.tokenize(new_doc_dict['29389429'])\n",
    "\n",
    "# Removing tokens with length less than 3\n",
    "uni_tokens=[w for w in doc_uni_tokens if len(w)>=3]\n"
   ]
  },
  {
   "cell_type": "markdown",
   "metadata": {},
   "source": [
    "## 2a. Tokenising individual unit  \n",
    "Also, we remove token with length less than 3"
   ]
  },
  {
   "cell_type": "code",
   "execution_count": 38,
   "metadata": {},
   "outputs": [],
   "source": [
    "tokenizer = RegexpTokenizer(r\"\\w+(?:[-']\\w+)?\")\n",
    "\n",
    "for i in unit_list:\n",
    "    ## Removing tokens with len < 3\n",
    "    unigram_tokens = tokenizer.tokenize(i['text'])\n",
    "    i['uni_tokens']=[w for w in unigram_tokens if len(w)>=3]"
   ]
  },
  {
   "cell_type": "markdown",
   "metadata": {},
   "source": [
    "## 3. Bigram tokens from the document"
   ]
  },
  {
   "cell_type": "markdown",
   "metadata": {},
   "source": [
    "The below code is reference from Tutorial 4 (FIT5196-Data Wrangling, Monash University S1 2019)"
   ]
  },
  {
   "cell_type": "code",
   "execution_count": 39,
   "metadata": {},
   "outputs": [],
   "source": [
    "bigram_measures = nltk.collocations.BigramAssocMeasures()\n",
    "\n",
    "bigram_finder = nltk.collocations.BigramCollocationFinder.from_words(uni_tokens)\n",
    "\n",
    "bigram_finder.apply_word_filter(lambda w: len(w) < 3)# or w.lower() in ignored_words)\n",
    "\n",
    "# Finding the top 200 bigrams\n",
    "top_200_bigrams = bigram_finder.nbest(bigram_measures.pmi, 200)\n",
    "\n",
    "bigrams_set=list(set(top_200_bigrams))\n",
    "\n",
    "#print(bigrams_set)"
   ]
  },
  {
   "cell_type": "markdown",
   "metadata": {},
   "source": [
    "## 4a. Retokenise and then remove context independent stopwords"
   ]
  },
  {
   "cell_type": "markdown",
   "metadata": {},
   "source": [
    "The below code is reference from Tutorial 5 (FIT5196-Data Wrangling, Monash University S1 2019)"
   ]
  },
  {
   "cell_type": "code",
   "execution_count": 40,
   "metadata": {},
   "outputs": [],
   "source": [
    "# Reading the stop words\n",
    "stopwords=list()\n",
    "\n",
    "\n",
    "with open(\"stopwords_en.txt\",\"r\") as words:\n",
    "    for i in words.readlines():\n",
    "        stopwords.append(i.strip('\\n'))\n",
    "# Set of unique stopwords\n",
    "stopwords_set = set(stopwords)\n",
    "\n",
    "# Retokenise to remove context independent stop words from the given list\n",
    "for i in unit_list:\n",
    "    from nltk.tokenize import MWETokenizer\n",
    "    # Tokenise bigrams\n",
    "    mwe_tokenizer = MWETokenizer(bigrams_set)\n",
    "    \n",
    "    # Retokenising them\n",
    "    tokens_sw = mwe_tokenizer.tokenize(i['uni_tokens'])\n",
    "    i['uni_tokens'] = [w for w in tokens_sw if w not in stopwords_set]\n"
   ]
  },
  {
   "cell_type": "markdown",
   "metadata": {},
   "source": [
    "### Important note\n",
    "- If we stem the words before removing the context independent words, a few words providing additional information about the unit would be captured.\n",
    "- However, if lets say words \"pollutants\",\"polluting\" and \"pollutant\" occur in 33% of the documents each exclusively. then if we stem them \"pollut\" word will occur in 99% of the documents and will be removed.\n",
    "- It is for the same reason that we do not stem before removal of context dependent words.\n"
   ]
  },
  {
   "cell_type": "markdown",
   "metadata": {},
   "source": [
    "### Creating a set of tokens with bigrams and unigrams unique to a unit"
   ]
  },
  {
   "cell_type": "code",
   "execution_count": 41,
   "metadata": {},
   "outputs": [],
   "source": [
    "# Creating unit set of tokens to calculate the document frequency\n",
    "for i in unit_list:\n",
    "    i['re_set']=list(set(i['uni_tokens']))"
   ]
  },
  {
   "cell_type": "code",
   "execution_count": 42,
   "metadata": {},
   "outputs": [
    {
     "data": {
      "text/plain": [
       "13201"
      ]
     },
     "execution_count": 42,
     "metadata": {},
     "output_type": "execute_result"
    }
   ],
   "source": [
    "# Set of unique tokens in a particular unit\n",
    "token_count=list()\n",
    "\n",
    "for i in unit_list:\n",
    "    \n",
    "    for j in i['re_set']:\n",
    "        \n",
    "        token_count.append(j)\n",
    "        \n",
    "len(token_count)"
   ]
  },
  {
   "cell_type": "code",
   "execution_count": 43,
   "metadata": {},
   "outputs": [
    {
     "name": "stdout",
     "output_type": "stream",
     "text": [
      "['academically', 'graduate', 'results', 'skills', 'process', 'independently', 'literature', 'project', 'students', 'formulate', 'continue', 'demonstrate', 'command', 'conduct', 'written', 'research', 'independent', 'supervision', 'suitable', 'academic', 'thesis', 'production', 'critically', 'sophisticated', 'argument', 'sound', 'staff', 'develop', 'commenced', 'relevant', 'APG5849_Graduate', 'analyse']\n",
      "==================\n",
      "32\n",
      "==================\n",
      "['formulate', 'research', 'project', 'conduct', 'research', 'independently', 'demonstrate', 'command', 'relevant', 'literature', 'critically', 'analyse', 'relevant', 'academic', 'literature', 'develop', 'academically', 'sound', 'argument', 'demonstrate', 'sophisticated', 'written', 'skills', 'supervision', 'suitable', 'academic', 'staff', 'students', 'continue', 'conduct', 'independent', 'research', 'commenced', 'APG5849_Graduate', 'research', 'thesis', 'research', 'process', 'results', 'production', 'graduate', 'research', 'thesis']\n",
      "==================\n",
      "43\n"
     ]
    }
   ],
   "source": [
    "# Sample output\n",
    "for i in unit_list:\n",
    "    \n",
    "    if i['unit']==\"APG5850\":\n",
    "        \n",
    "        print(i['re_set'])\n",
    "        print(\"==================\")\n",
    "        print(len(i['re_set'])) # Set of unique tokens\n",
    "        \n",
    "        print(\"==================\")\n",
    "        print(i['uni_tokens'])\n",
    "        print(\"==================\")\n",
    "        \n",
    "        print(len(i['uni_tokens'])) # List of tokens in the unit including repititions"
   ]
  },
  {
   "cell_type": "markdown",
   "metadata": {},
   "source": [
    "## 4b. Removing context dependent stop words"
   ]
  },
  {
   "cell_type": "markdown",
   "metadata": {},
   "source": [
    "The below code is reference from Exploring Pre-Processed text and Generating Features.ipynb (FIT5196-Data Wrangling, Monash University S1 2019)"
   ]
  },
  {
   "cell_type": "code",
   "execution_count": 44,
   "metadata": {},
   "outputs": [
    {
     "data": {
      "text/plain": [
       "3566"
      ]
     },
     "execution_count": 44,
     "metadata": {},
     "output_type": "execute_result"
    }
   ],
   "source": [
    "import matplotlib\n",
    "from nltk.probability import *\n",
    "\n",
    "# It is the count of all unique tokens across the documents\n",
    "freqdict=FreqDist(token_count)\n",
    "tdict=dict(freqdict)\n",
    "\n",
    "# Unique count of vocabulary in the document with frequency\n",
    "len(tdict)"
   ]
  },
  {
   "cell_type": "markdown",
   "metadata": {},
   "source": [
    "### Plotting the frequency distribution"
   ]
  },
  {
   "cell_type": "code",
   "execution_count": 45,
   "metadata": {},
   "outputs": [
    {
     "data": {
      "text/plain": [
       "<Figure size 640x480 with 1 Axes>"
      ]
     },
     "metadata": {},
     "output_type": "display_data"
    }
   ],
   "source": [
    "# We see that the word unit appears more than 160 times\n",
    "freqdict.plot(25, cumulative=False)"
   ]
  },
  {
   "cell_type": "markdown",
   "metadata": {},
   "source": [
    "The below code is reference from Exploring Pre-Processed text and Generating Features.ipynb (FIT5196-Data Wrangling, Monash University S1 2019)"
   ]
  },
  {
   "cell_type": "code",
   "execution_count": 46,
   "metadata": {},
   "outputs": [
    {
     "data": {
      "image/png": "[encoded data removed]",
      "text/plain": [
       "<Figure size 432x288 with 1 Axes>"
      ]
     },
     "metadata": {
      "needs_background": "light"
     },
     "output_type": "display_data"
    }
   ],
   "source": [
    "## Plotting the words with frequency of frequency as 1\n",
    "\n",
    "ffd = FreqDist(freqdict.values())\n",
    "\n",
    "from pylab import *\n",
    "y = [0]*14\n",
    "\n",
    "for k, v in ffd.items():\n",
    "     if k <= 10:\n",
    "        y[k-1] = v\n",
    "     elif k >10 and k <= 50:\n",
    "        y[10] =  y[10] + v\n",
    "     elif k >50 and k <= 100:\n",
    "        y[11] =  y[11] + v\n",
    "     elif k > 100 and k <= 200:\n",
    "        y[12] =  y[12] + v\n",
    "     else:\n",
    "        y[13] =  y[13] + v\n",
    "        \n",
    "x = range(1, 15) # generate integer from 1 to 14\n",
    "ytks =list(map(str, range(1, 11))) # covert a integer list to a string list\n",
    "ytks.append('10-50')\n",
    "ytks.append('51-100')\n",
    "ytks.append('101-200')\n",
    "ytks.append('>200')\n",
    "barh(x,y, align='center')\n",
    "yticks(x, ytks)\n",
    "xlabel('Frequency of Frequency')\n",
    "ylabel('Word Frequency')\n",
    "grid(True)"
   ]
  },
  {
   "cell_type": "markdown",
   "metadata": {},
   "source": [
    "The graph above shows that there are a lot of words with frequency in between 1-10. infact aroung 90% of the words have the frequency less than 10 and hence will constitute as rare tokens and will get removed."
   ]
  },
  {
   "cell_type": "markdown",
   "metadata": {},
   "source": [
    "### Removing tokens with unit frequency more than 95% or less than 5%\n",
    "\n",
    "* 95% for context dependent stop words\n",
    "* 5% for rare tokens\n",
    "\n",
    "#### However, there is a problem with this case that, bigrams such as \"Nurse_practitioners\" which are common in the nursing units get removed as the frequency in this case is not more than 5%.\n",
    "#### We are losing out on important information pertaining to a particular unit.\n",
    "\n",
    "#### Ideally, if we are having bigrams then we should not filter them for a frequency of 5%. There should be a different threshold for bigrams."
   ]
  },
  {
   "cell_type": "code",
   "execution_count": 47,
   "metadata": {},
   "outputs": [
    {
     "data": {
      "text/plain": [
       "251"
      ]
     },
     "execution_count": 47,
     "metadata": {},
     "output_type": "execute_result"
    }
   ],
   "source": [
    "## Token list after removing context dependent stop words\n",
    "new_token_list=list()\n",
    "\n",
    "for k,v in tdict.items():\n",
    "    # Frequency of 95% for context\n",
    "    if v>10 and v<=190:\n",
    "        new_token_list.append(k)\n",
    "        \n",
    "len(new_token_list)"
   ]
  },
  {
   "cell_type": "markdown",
   "metadata": {},
   "source": [
    "## Information about the unit list\n",
    "unit_list objects contains:\n",
    "* uni_tokens: individual tokens in a single unit.\n",
    "We need to stem these tokens in order to find the frequency"
   ]
  },
  {
   "cell_type": "code",
   "execution_count": 48,
   "metadata": {},
   "outputs": [
    {
     "name": "stdout",
     "output_type": "stream",
     "text": [
      "['academically', 'graduate', 'results', 'skills', 'process', 'independently', 'literature', 'project', 'students', 'formulate', 'continue', 'demonstrate', 'command', 'conduct', 'written', 'research', 'independent', 'supervision', 'suitable', 'academic', 'thesis', 'production', 'critically', 'sophisticated', 'argument', 'sound', 'staff', 'develop', 'commenced', 'relevant', 'APG5849_Graduate', 'analyse']\n",
      "==================\n",
      "32\n",
      "==================\n",
      "['formulate', 'research', 'project', 'conduct', 'research', 'independently', 'demonstrate', 'command', 'relevant', 'literature', 'critically', 'analyse', 'relevant', 'academic', 'literature', 'develop', 'academically', 'sound', 'argument', 'demonstrate', 'sophisticated', 'written', 'skills', 'supervision', 'suitable', 'academic', 'staff', 'students', 'continue', 'conduct', 'independent', 'research', 'commenced', 'APG5849_Graduate', 'research', 'thesis', 'research', 'process', 'results', 'production', 'graduate', 'research', 'thesis']\n",
      "==================\n",
      "43\n",
      "==================\n",
      "['results', 'skills', 'process', 'literature', 'project', 'students', 'demonstrate', 'conduct', 'written', 'research', 'independent', 'academic', 'production', 'critically', 'develop', 'relevant', 'analyse', 'occupational', 'application', 'science', 'concept', 'conceptual', 'work', 'range', 'form', 'effectively', 'practice', 'part', 'techniques', 'nature', 'technical', 'projects', 'health', 'design', 'ideas', 'industry', 'ability', 'designs', 'communicate', 'understand', 'safety', 'unit', 'focus', 'understanding', 'contemporary', 'oral', 'reflect', 'learning', 'relating', 'Australia', 'common', 'system', 'examined', 'legal', 'presentation', 'international', 'perspectives', 'interpret', 'assess', 'role', 'identify', 'control', 'rules', 'issues', 'Australian', 'contexts', 'order', 'policy', 'writing', 'historical', 'practical', 'advanced', 'evaluate', 'applied', 'framework', 'present', 'principles', 'apply', 'professional', 'context', 'developed', 'theories', 'integrate', 'areas', 'explore', 'settings', 'processes', 'history', 'theory', 'clinical', 'address', 'communication', 'critique', 'explores', 'approaches', 'planning', 'systems', 'complex', 'problems', 'analytical', 'ethical', 'outcomes', 'study', 'capacity', 'high', 'level', 'tools', 'examine', 'strategies', 'frameworks', 'concepts', 'field', 'environmental', 'management', 'social', 'business', 'challenges', 'case', 'factors', 'aims', 'relationship', 'aspects', 'assessment', 'solutions', 'analysis', 'knowledge', 'describe', 'implementation', 'developing', 'expected', 'investigation', 'data', 'explain', 'report', 'comprehensive', 'software', 'methods', 'required', 'write', 'select', 'groups', 'methodology', 'critical', 'making', 'debates', 'informed', 'including', 'awareness', 'engage', 'aim', 'world', 'introduces', 'introduced', 'cultural', 'theoretical', 'basic', 'specific', 'complete', 'community', 'scientific', 'emphasis', 'studies', 'undertake', 'presentations', 'discuss', 'discipline', 'arguments', 'current', 'main', 'political', 'media', 'major', 'development', 'thinking', 'plan', 'building', 'team', 'life', 'appraise', 'variety', 'sources', 'findings', 'examines', 'fundamental', 'reference', 'opportunity', 'change', 'individual', 'public', 'activities', 'produce', 'chosen', 'questions', 'global', 'approach', 'area', 'topics', 'environments', 'organisational', 'covered', 'solving', 'implications', 'structure', 'performance', 'group', 'problem', 'include', 'based', 'society', 'culture', 'care', 'texts', 'environment', 'information', 'requirements', 'disease', 'provide', 'existing', 'relation', 'related', 'roles', 'recognise', 'series', 'practices', 'material', 'language', 'applications', 'introduction', 'construct', 'influence', 'key', 'program', 'topic', 'designed', 'digital', 'relationships', 'economic', 'terms', 'working', 'impact', 'setting', 'effective', 'models', 'evidence', 'personal', 'strengths', 'importance', 'ethics', 'implement', 'manage', 'resources']\n"
     ]
    }
   ],
   "source": [
    "# Sample output\n",
    "for i in unit_list:\n",
    "    \n",
    "    if i['unit']==\"APG5850\":\n",
    "        \n",
    "        print(i['re_set'])\n",
    "        print(\"==================\")\n",
    "        \n",
    "        print(len(i['re_set'])) # Set of unique tokens\n",
    "        print(\"==================\")\n",
    "        \n",
    "        print(i['uni_tokens'])\n",
    "        print(\"==================\")\n",
    "        \n",
    "        print(len(i['uni_tokens'])) # List of tokens in the unit including repititions\n",
    "\n",
    "print(\"==================\")\n",
    "print(new_token_list) # contains no bigrams"
   ]
  },
  {
   "cell_type": "markdown",
   "metadata": {},
   "source": [
    "## 6. Using Porter Stemmer to stem the unigrams\n",
    "\n",
    "We stem only the unigrams as stemming the bigrams is not useful"
   ]
  },
  {
   "cell_type": "code",
   "execution_count": 49,
   "metadata": {},
   "outputs": [
    {
     "data": {
      "text/plain": [
       "200"
      ]
     },
     "execution_count": 49,
     "metadata": {},
     "output_type": "execute_result"
    }
   ],
   "source": [
    "from nltk.stem import PorterStemmer\n",
    "stemmer = PorterStemmer()\n",
    "\n",
    "final_tokens_1 =[]\n",
    "# We make use of the unique token list \n",
    "for token in new_token_list:\n",
    "    if \"_\" not in token:\n",
    "        final_tokens_1 = final_tokens_1 + [stemmer.stem(token)]\n",
    "    else:\n",
    "        final_tokens_1=final_tokens+[token]\n",
    "\n",
    "# These are the set of Unique tokens left after aggregating the porter stemmed tokens\n",
    "final_tokens_1=list(set(final_tokens_1))\n",
    "\n",
    "len(final_tokens_1) # 200 unique tokens"
   ]
  },
  {
   "cell_type": "markdown",
   "metadata": {},
   "source": [
    "#### We stem the bigrams in particular unit in order to obtain the count from them"
   ]
  },
  {
   "cell_type": "code",
   "execution_count": 50,
   "metadata": {},
   "outputs": [],
   "source": [
    "# We stem the unigrams in the list of tokens inside each unit\n",
    "# Note: retokenised key contains list of all tokens inside one unit including unigram and bigrams\n",
    "\n",
    "for i in unit_list:\n",
    "    final_tokens=[]\n",
    "    \n",
    "    for token in i['uni_tokens']:\n",
    "        if \"_\" not in token:\n",
    "            final_tokens = final_tokens + [stemmer.stem(token)]\n",
    "            \n",
    "        # We do not want to stem the bigrams    \n",
    "        else:\n",
    "            final_tokens=final_tokens+[token]\n",
    "    \n",
    "    # Final tokens in unit list contains the tokens that need to be counted\n",
    "    i['final_tokens']=final_tokens\n"
   ]
  },
  {
   "cell_type": "markdown",
   "metadata": {},
   "source": [
    "## 7a. Creating the dictionary of vocabulary"
   ]
  },
  {
   "cell_type": "code",
   "execution_count": 51,
   "metadata": {},
   "outputs": [
    {
     "name": "stdout",
     "output_type": "stream",
     "text": [
      "[('abil', 1), ('academ', 2), ('activ', 3), ('address', 4), ('advanc', 5), ('aim', 6), ('analys', 7), ('analysi', 8), ('analyt', 9), ('appli', 10), ('applic', 11), ('apprais', 12), ('approach', 13), ('area', 14), ('argument', 15), ('aspect', 16), ('assess', 17), ('australia', 18), ('australian', 19), ('awar', 20), ('base', 21), ('basic', 22), ('build', 23), ('busi', 24), ('capac', 25), ('care', 26), ('case', 27), ('challeng', 28), ('chang', 29), ('chosen', 30), ('clinic', 31), ('common', 32), ('commun', 33), ('complet', 34), ('complex', 35), ('comprehens', 36), ('concept', 37), ('conceptu', 38), ('conduct', 39), ('construct', 40), ('contemporari', 41), ('context', 42), ('control', 43), ('cover', 44), ('critic', 45), ('critiqu', 46), ('cultur', 47), ('current', 48), ('data', 49), ('debat', 50), ('demonstr', 51), ('describ', 52), ('design', 53), ('develop', 54), ('digit', 55), ('disciplin', 56), ('discuss', 57), ('diseas', 58), ('econom', 59), ('effect', 60), ('emphasi', 61), ('engag', 62), ('environ', 63), ('environment', 64), ('ethic', 65), ('evalu', 66), ('evid', 67), ('examin', 68), ('exist', 69), ('expect', 70), ('explain', 71), ('explor', 72), ('factor', 73), ('field', 74), ('find', 75), ('focu', 76), ('form', 77), ('framework', 78), ('fundament', 79), ('global', 80), ('group', 81), ('health', 82), ('high', 83), ('histor', 84), ('histori', 85), ('idea', 86), ('identifi', 87), ('impact', 88), ('implement', 89), ('implic', 90), ('import', 91), ('includ', 92), ('independ', 93), ('individu', 94), ('industri', 95), ('influenc', 96), ('inform', 97), ('integr', 98), ('intern', 99), ('interpret', 100), ('introduc', 101), ('introduct', 102), ('investig', 103), ('issu', 104), ('key', 105), ('knowledg', 106), ('languag', 107), ('learn', 108), ('legal', 109), ('level', 110), ('life', 111), ('literatur', 112), ('main', 113), ('major', 114), ('make', 115), ('manag', 116), ('materi', 117), ('media', 118), ('method', 119), ('methodolog', 120), ('model', 121), ('natur', 122), ('occup', 123), ('opportun', 124), ('oral', 125), ('order', 126), ('organis', 127), ('outcom', 128), ('part', 129), ('perform', 130), ('person', 131), ('perspect', 132), ('plan', 133), ('polici', 134), ('polit', 135), ('practic', 136), ('present', 137), ('principl', 138), ('problem', 139), ('process', 140), ('produc', 141), ('product', 142), ('profession', 143), ('program', 144), ('project', 145), ('provid', 146), ('public', 147), ('question', 148), ('rang', 149), ('recognis', 150), ('refer', 151), ('reflect', 152), ('relat', 153), ('relationship', 154), ('relev', 155), ('report', 156), ('requir', 157), ('research', 158), ('resourc', 159), ('result', 160), ('role', 161), ('rule', 162), ('safeti', 163), ('scienc', 164), ('scientif', 165), ('select', 166), ('seri', 167), ('set', 168), ('skill', 169), ('social', 170), ('societi', 171), ('softwar', 172), ('solut', 173), ('solv', 174), ('sourc', 175), ('specif', 176), ('strategi', 177), ('strength', 178), ('structur', 179), ('student', 180), ('studi', 181), ('system', 182), ('team', 183), ('technic', 184), ('techniqu', 185), ('term', 186), ('text', 187), ('theoret', 188), ('theori', 189), ('think', 190), ('tool', 191), ('topic', 192), ('understand', 193), ('undertak', 194), ('unit', 195), ('varieti', 196), ('work', 197), ('world', 198), ('write', 199), ('written', 200)]\n"
     ]
    }
   ],
   "source": [
    "\n",
    "count=1\n",
    "diction_out=list()\n",
    "final_tokens_1.sort()\n",
    "\n",
    "for i in final_tokens_1:\n",
    "    diction_out.append((i,count))\n",
    "    count+=1\n",
    "    \n",
    "print(diction_out)\n",
    "\n",
    "\n",
    "# Writing the dictionary\n",
    "with open(\"29389429_vocab.txt\", \"w\") as diction_file:\n",
    "    \n",
    "    for i in diction_out:\n",
    "        \n",
    "        diction_file.write(str(i[0])+\":\"+str(i[1])+\"\\n\")\n"
   ]
  },
  {
   "cell_type": "markdown",
   "metadata": {},
   "source": [
    "## 7b. Creating the output vector space model"
   ]
  },
  {
   "cell_type": "code",
   "execution_count": 52,
   "metadata": {},
   "outputs": [],
   "source": [
    "c_list=list()\n",
    "for j in unit_list:\n",
    "    \n",
    "    # Creating a list of lists to iterate through in order to write\n",
    "    a_list=list()\n",
    "    blist=list()\n",
    "\n",
    "    for i in diction_out:\n",
    "    \n",
    "        \n",
    "        if j['final_tokens'].count(i[0])!=0:\n",
    "            blist.append((i[1],j['final_tokens'].count(i[0])))\n",
    "\n",
    "\n",
    "    # Inorder to check the print output\n",
    "    #print(j['unit']) \n",
    "    #print(count)\n",
    "    #print(\"===================\")\n",
    "    #print(blist)\n",
    "    #print(\"===================\")\n",
    "    \n",
    "    a_list.append(j['unit'])\n",
    "    a_list.append(blist)\n",
    "    c_list.append(a_list)\n",
    "    \n",
    "\n",
    "# Writing the vector\n",
    "with open(\"Output_countVec.txt\", \"w\") as a_file:\n",
    "    for i in c_list:\n",
    "        a_file.write(i[0]+\",\")\n",
    "        #print(i)\n",
    "\n",
    "        count=0\n",
    "        for j in i[1]:\n",
    "          #  print(j)\n",
    "            count+=1\n",
    "            \n",
    "            # We do not append the comma at the end\n",
    "            if count==len(i[1]):\n",
    "                    a_file.write(str(j[0])+\":\"+str(j[1]))\n",
    "            else:\n",
    "\n",
    "                a_file.write(str(j[0])+\":\"+str(j[1])+\",\")\n",
    "        a_file.write(\"\\n\")\n"
   ]
  }
 ],
 "metadata": {
  "kernelspec": {
   "display_name": "Python 3",
   "language": "python",
   "name": "python3"
  },
  "language_info": {
   "codemirror_mode": {
    "name": "ipython",
    "version": 3
   },
   "file_extension": ".py",
   "mimetype": "text/x-python",
   "name": "python",
   "nbconvert_exporter": "python",
   "pygments_lexer": "ipython3",
   "version": "3.7.0"
  }
 },
 "nbformat": 4,
 "nbformat_minor": 2
}
